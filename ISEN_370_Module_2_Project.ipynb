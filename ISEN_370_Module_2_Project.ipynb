{
  "nbformat": 4,
  "nbformat_minor": 0,
  "metadata": {
    "colab": {
      "name": "ISEN 370 Module 2 Project.ipynb",
      "provenance": [],
      "collapsed_sections": [],
      "include_colab_link": true
    },
    "kernelspec": {
      "name": "python3",
      "display_name": "Python 3"
    },
    "language_info": {
      "name": "python"
    }
  },
  "cells": [
    {
      "cell_type": "markdown",
      "metadata": {
        "id": "view-in-github",
        "colab_type": "text"
      },
      "source": [
        "<a href=\"https://colab.research.google.com/github/BenNelsonMC1867/DataScienceModule2/blob/main/ISEN_370_Module_2_Project.ipynb\" target=\"_parent\"><img src=\"https://colab.research.google.com/assets/colab-badge.svg\" alt=\"Open In Colab\"/></a>"
      ]
    },
    {
      "cell_type": "markdown",
      "metadata": {
        "id": "ORIRg6IK6lqT"
      },
      "source": [
        "# ISEN 370 Module 2 Assignment\n",
        "In this assignment, you will use data science tools to exlore a dataset, calculate confidence intervals and conduct a hypothesis testing on a given dataset.\n",
        "You can use ISEN 370 Module 2 Project Demo file as a reference when completing this assignment.\n"
      ]
    },
    {
      "cell_type": "markdown",
      "metadata": {
        "id": "_yN-yrSITXXO"
      },
      "source": [
        "First, you will need to import libraries to the project (note you should be able to find the four libraries that need to be imported from the project demo file.) For your convenience, the first line has been provided below. Add three more lines to complete importing the libraries."
      ]
    },
    {
      "cell_type": "code",
      "metadata": {
        "id": "4y1CM1g7kkbB"
      },
      "source": [
        "import numpy as np\n"
      ],
      "execution_count": 1,
      "outputs": []
    },
    {
      "cell_type": "code",
      "metadata": {
        "id": "XOO97bEbmJEr"
      },
      "source": [
        "import pandas as pd"
      ],
      "execution_count": 2,
      "outputs": []
    },
    {
      "cell_type": "code",
      "metadata": {
        "id": "H-LaAAjXmJGM"
      },
      "source": [
        "import matplotlib.pyplot as plt"
      ],
      "execution_count": 3,
      "outputs": []
    },
    {
      "cell_type": "code",
      "metadata": {
        "id": "FrrTUyqWmJfW"
      },
      "source": [
        "import scipy.stats as stats"
      ],
      "execution_count": 4,
      "outputs": []
    },
    {
      "cell_type": "markdown",
      "metadata": {
        "id": "3qsXYkC_6_r-"
      },
      "source": [
        "## Data Import\n",
        "\n",
        "The Learning Enhanced Watershed Assessment System (LEWAS) is a unique real-time water and weather monitoring system. The LEWAS monitoring site is installed at the outfall of the Webb Branch watershed on Virginia Tech’s campus. Webb Branch is an urban stream with a 2.78 square kilometer (about one square mile) watershed consisting of residential and commercial properties. The stream is routed through man-made channels and culverts until it discharges at the LEWAS monitoring site. We first import the LEWAS datasets and print the first 10 rows of data. The data is stored in CSV files for which the path is given in the cell below. There are two CSV files, the first contains data from 9/01/17-9/30/17 and the second contains data from 10/01/17-10/31/17."
      ]
    },
    {
      "cell_type": "code",
      "metadata": {
        "id": "oWmt7-Ye7RY8"
      },
      "source": [
        "data_url3='https://github.com/StevenXJiang/DataScienceModule2/raw/main/LEWAS_Storm_Data_Demo_3.csv'\n",
        "data_url4='https://github.com/StevenXJiang/DataScienceModule2/raw/main/LEWAS_Storm_Data_Demo_4.csv'\n"
      ],
      "execution_count": 5,
      "outputs": []
    },
    {
      "cell_type": "markdown",
      "metadata": {
        "id": "PM69GHhR67pA"
      },
      "source": [
        "## Exploring Data"
      ]
    },
    {
      "cell_type": "markdown",
      "metadata": {
        "id": "xXX6QS98UBQo"
      },
      "source": [
        "* Provide two lines of code below to create a dataframe named df3 that reads data using data_url3 (data from 9/1/17-9/30/17). <br>\n",
        "* Use pd.read_csv() function to read the csv data. <br>\n",
        "* Display the first 10 rows of data using head()."
      ]
    },
    {
      "cell_type": "code",
      "metadata": {
        "id": "zdwkCZlR_ssb"
      },
      "source": [
        "df3=pd.read_csv(data_url3)"
      ],
      "execution_count": 6,
      "outputs": []
    },
    {
      "cell_type": "code",
      "metadata": {
        "id": "8GyFarF_ngY4",
        "outputId": "70f213ef-2dd7-417a-b0fc-3336e26db884",
        "colab": {
          "base_uri": "https://localhost:8080/",
          "height": 359
        }
      },
      "source": [
        "df3.head(10)"
      ],
      "execution_count": 7,
      "outputs": [
        {
          "output_type": "execute_result",
          "data": {
            "text/html": [
              "<div>\n",
              "<style scoped>\n",
              "    .dataframe tbody tr th:only-of-type {\n",
              "        vertical-align: middle;\n",
              "    }\n",
              "\n",
              "    .dataframe tbody tr th {\n",
              "        vertical-align: top;\n",
              "    }\n",
              "\n",
              "    .dataframe thead th {\n",
              "        text-align: right;\n",
              "    }\n",
              "</style>\n",
              "<table border=\"1\" class=\"dataframe\">\n",
              "  <thead>\n",
              "    <tr style=\"text-align: right;\">\n",
              "      <th></th>\n",
              "      <th>Date and Time</th>\n",
              "      <th>Water Temperature (F)</th>\n",
              "      <th>Est. Flow Rate[m^3/s]</th>\n",
              "    </tr>\n",
              "  </thead>\n",
              "  <tbody>\n",
              "    <tr>\n",
              "      <th>0</th>\n",
              "      <td>9/1/17 12:01 AM</td>\n",
              "      <td>66.236</td>\n",
              "      <td>0.051211</td>\n",
              "    </tr>\n",
              "    <tr>\n",
              "      <th>1</th>\n",
              "      <td>9/1/17 12:04 AM</td>\n",
              "      <td>66.236</td>\n",
              "      <td>0.042161</td>\n",
              "    </tr>\n",
              "    <tr>\n",
              "      <th>2</th>\n",
              "      <td>9/1/17 12:07 AM</td>\n",
              "      <td>66.146</td>\n",
              "      <td>0.029130</td>\n",
              "    </tr>\n",
              "    <tr>\n",
              "      <th>3</th>\n",
              "      <td>9/1/17 12:10 AM</td>\n",
              "      <td>66.200</td>\n",
              "      <td>0.029003</td>\n",
              "    </tr>\n",
              "    <tr>\n",
              "      <th>4</th>\n",
              "      <td>9/1/17 12:13 AM</td>\n",
              "      <td>66.236</td>\n",
              "      <td>0.023817</td>\n",
              "    </tr>\n",
              "    <tr>\n",
              "      <th>5</th>\n",
              "      <td>9/1/17 12:16 AM</td>\n",
              "      <td>66.254</td>\n",
              "      <td>0.013823</td>\n",
              "    </tr>\n",
              "    <tr>\n",
              "      <th>6</th>\n",
              "      <td>9/1/17 12:19 AM</td>\n",
              "      <td>66.272</td>\n",
              "      <td>0.010061</td>\n",
              "    </tr>\n",
              "    <tr>\n",
              "      <th>7</th>\n",
              "      <td>9/1/17 12:22 AM</td>\n",
              "      <td>66.290</td>\n",
              "      <td>0.008013</td>\n",
              "    </tr>\n",
              "    <tr>\n",
              "      <th>8</th>\n",
              "      <td>9/1/17 12:25 AM</td>\n",
              "      <td>66.254</td>\n",
              "      <td>0.004908</td>\n",
              "    </tr>\n",
              "    <tr>\n",
              "      <th>9</th>\n",
              "      <td>9/1/17 12:28 AM</td>\n",
              "      <td>66.290</td>\n",
              "      <td>0.005631</td>\n",
              "    </tr>\n",
              "  </tbody>\n",
              "</table>\n",
              "</div>"
            ],
            "text/plain": [
              "     Date and Time  Water Temperature (F)  Est. Flow Rate[m^3/s]\n",
              "0  9/1/17 12:01 AM                 66.236               0.051211\n",
              "1  9/1/17 12:04 AM                 66.236               0.042161\n",
              "2  9/1/17 12:07 AM                 66.146               0.029130\n",
              "3  9/1/17 12:10 AM                 66.200               0.029003\n",
              "4  9/1/17 12:13 AM                 66.236               0.023817\n",
              "5  9/1/17 12:16 AM                 66.254               0.013823\n",
              "6  9/1/17 12:19 AM                 66.272               0.010061\n",
              "7  9/1/17 12:22 AM                 66.290               0.008013\n",
              "8  9/1/17 12:25 AM                 66.254               0.004908\n",
              "9  9/1/17 12:28 AM                 66.290               0.005631"
            ]
          },
          "metadata": {},
          "execution_count": 7
        }
      ]
    },
    {
      "cell_type": "markdown",
      "metadata": {
        "id": "10krY0x-k8Nq"
      },
      "source": [
        "* Provide two lines of code below to create a dataframe named df4 that reads data using data_url4 (data from 10/1/17-10/31/17).\n",
        "* Use pd.read_csv() function to read the csv data.\n",
        "* Display the first 10 rows of data using head()."
      ]
    },
    {
      "cell_type": "code",
      "metadata": {
        "id": "TQj5WiImVM3Z"
      },
      "source": [
        "df4=pd.read_csv(data_url4)"
      ],
      "execution_count": 8,
      "outputs": []
    },
    {
      "cell_type": "code",
      "metadata": {
        "id": "32iB013DnhSa",
        "outputId": "d494e93c-bb88-4035-ef86-cb21e89c4626",
        "colab": {
          "base_uri": "https://localhost:8080/",
          "height": 359
        }
      },
      "source": [
        "df4.head(10)"
      ],
      "execution_count": 9,
      "outputs": [
        {
          "output_type": "execute_result",
          "data": {
            "text/html": [
              "<div>\n",
              "<style scoped>\n",
              "    .dataframe tbody tr th:only-of-type {\n",
              "        vertical-align: middle;\n",
              "    }\n",
              "\n",
              "    .dataframe tbody tr th {\n",
              "        vertical-align: top;\n",
              "    }\n",
              "\n",
              "    .dataframe thead th {\n",
              "        text-align: right;\n",
              "    }\n",
              "</style>\n",
              "<table border=\"1\" class=\"dataframe\">\n",
              "  <thead>\n",
              "    <tr style=\"text-align: right;\">\n",
              "      <th></th>\n",
              "      <th>Date and Time</th>\n",
              "      <th>Water Temperature (F)</th>\n",
              "      <th>Estimated Flow Rate (m3/s)</th>\n",
              "    </tr>\n",
              "  </thead>\n",
              "  <tbody>\n",
              "    <tr>\n",
              "      <th>0</th>\n",
              "      <td>10/1/2017 0:19</td>\n",
              "      <td>62.096</td>\n",
              "      <td>0.029084</td>\n",
              "    </tr>\n",
              "    <tr>\n",
              "      <th>1</th>\n",
              "      <td>10/1/2017 0:30</td>\n",
              "      <td>61.916</td>\n",
              "      <td>0.032962</td>\n",
              "    </tr>\n",
              "    <tr>\n",
              "      <th>2</th>\n",
              "      <td>10/1/2017 0:36</td>\n",
              "      <td>61.862</td>\n",
              "      <td>0.026500</td>\n",
              "    </tr>\n",
              "    <tr>\n",
              "      <th>3</th>\n",
              "      <td>10/1/2017 13:25</td>\n",
              "      <td>60.512</td>\n",
              "      <td>0.018774</td>\n",
              "    </tr>\n",
              "    <tr>\n",
              "      <th>4</th>\n",
              "      <td>10/1/2017 13:35</td>\n",
              "      <td>60.494</td>\n",
              "      <td>0.016194</td>\n",
              "    </tr>\n",
              "    <tr>\n",
              "      <th>5</th>\n",
              "      <td>10/1/2017 13:48</td>\n",
              "      <td>60.566</td>\n",
              "      <td>0.013135</td>\n",
              "    </tr>\n",
              "    <tr>\n",
              "      <th>6</th>\n",
              "      <td>10/1/2017 14:33</td>\n",
              "      <td>60.836</td>\n",
              "      <td>0.014517</td>\n",
              "    </tr>\n",
              "    <tr>\n",
              "      <th>7</th>\n",
              "      <td>10/1/2017 16:40</td>\n",
              "      <td>62.114</td>\n",
              "      <td>0.011127</td>\n",
              "    </tr>\n",
              "    <tr>\n",
              "      <th>8</th>\n",
              "      <td>10/1/2017 17:32</td>\n",
              "      <td>62.204</td>\n",
              "      <td>0.006843</td>\n",
              "    </tr>\n",
              "    <tr>\n",
              "      <th>9</th>\n",
              "      <td>10/1/2017 17:46</td>\n",
              "      <td>62.150</td>\n",
              "      <td>0.004584</td>\n",
              "    </tr>\n",
              "  </tbody>\n",
              "</table>\n",
              "</div>"
            ],
            "text/plain": [
              "     Date and Time  Water Temperature (F)  Estimated Flow Rate (m3/s)\n",
              "0   10/1/2017 0:19                 62.096                    0.029084\n",
              "1   10/1/2017 0:30                 61.916                    0.032962\n",
              "2   10/1/2017 0:36                 61.862                    0.026500\n",
              "3  10/1/2017 13:25                 60.512                    0.018774\n",
              "4  10/1/2017 13:35                 60.494                    0.016194\n",
              "5  10/1/2017 13:48                 60.566                    0.013135\n",
              "6  10/1/2017 14:33                 60.836                    0.014517\n",
              "7  10/1/2017 16:40                 62.114                    0.011127\n",
              "8  10/1/2017 17:32                 62.204                    0.006843\n",
              "9  10/1/2017 17:46                 62.150                    0.004584"
            ]
          },
          "metadata": {},
          "execution_count": 9
        }
      ]
    },
    {
      "cell_type": "markdown",
      "metadata": {
        "id": "RklW1Ll47aoQ"
      },
      "source": [
        "## Exploring Data\n",
        "We can use scatter plot to explore <b> the estimated flow rate data </b>. <br>\n",
        "Generate **two** scatter plots: one for the flow rate data in September 2017 and the other for the flow rate data in October 2017. Make sure to provide the title, x axis label and y axis label for your scatter plots."
      ]
    },
    {
      "cell_type": "markdown",
      "metadata": {
        "id": "maAkHf4WI7K6"
      },
      "source": [
        "## Scatter Plot 1"
      ]
    },
    {
      "cell_type": "code",
      "metadata": {
        "id": "XJYaSUJ7HC-4",
        "outputId": "0ba7b79b-6bd0-4a47-a87f-d06d69d2fbab",
        "colab": {
          "base_uri": "https://localhost:8080/",
          "height": 51
        }
      },
      "source": [
        "plt.figure(figsize=(20,12))"
      ],
      "execution_count": 10,
      "outputs": [
        {
          "output_type": "execute_result",
          "data": {
            "text/plain": [
              "<Figure size 1440x864 with 0 Axes>"
            ]
          },
          "metadata": {},
          "execution_count": 10
        },
        {
          "output_type": "display_data",
          "data": {
            "text/plain": [
              "<Figure size 1440x864 with 0 Axes>"
            ]
          },
          "metadata": {}
        }
      ]
    },
    {
      "cell_type": "code",
      "metadata": {
        "id": "4gQVIX-wnpOH",
        "outputId": "0dc41c8c-74df-457e-acac-c34bf9e56978",
        "colab": {
          "base_uri": "https://localhost:8080/",
          "height": 283
        }
      },
      "source": [
        "plt.scatter(df3[\"Date and Time\"], df3[\"Est. Flow Rate[m^3/s]\"], s=1)\n"
      ],
      "execution_count": 11,
      "outputs": [
        {
          "output_type": "execute_result",
          "data": {
            "text/plain": [
              "<matplotlib.collections.PathCollection at 0x7f5810546810>"
            ]
          },
          "metadata": {},
          "execution_count": 11
        },
        {
          "output_type": "display_data",
          "data": {
            "image/png": "[encoded data removed]",
            "text/plain": [
              "<Figure size 432x288 with 1 Axes>"
            ]
          },
          "metadata": {
            "needs_background": "light"
          }
        }
      ]
    },
    {
      "cell_type": "code",
      "metadata": {
        "id": "h1F9lLgpnpYk",
        "outputId": "ee4f0ad9-c045-4964-ed2b-5883cc480767",
        "colab": {
          "base_uri": "https://localhost:8080/",
          "height": 298
        }
      },
      "source": [
        "plt.title(\"Est. Flow Rate 9/1/17-9/30/17\")\n"
      ],
      "execution_count": 12,
      "outputs": [
        {
          "output_type": "execute_result",
          "data": {
            "text/plain": [
              "Text(0.5, 1.0, 'Est. Flow Rate 9/1/17-9/30/17')"
            ]
          },
          "metadata": {},
          "execution_count": 12
        },
        {
          "output_type": "display_data",
          "data": {
            "image/png": "[encoded data removed]",
            "text/plain": [
              "<Figure size 432x288 with 1 Axes>"
            ]
          },
          "metadata": {
            "needs_background": "light"
          }
        }
      ]
    },
    {
      "cell_type": "code",
      "metadata": {
        "id": "b92Vhx-Qnpho",
        "outputId": "1bdcdfa3-5ee9-480f-fa95-6222d9d6873b",
        "colab": {
          "base_uri": "https://localhost:8080/",
          "height": 300
        }
      },
      "source": [
        "plt.xlabel(\"Date\")\n"
      ],
      "execution_count": 13,
      "outputs": [
        {
          "output_type": "execute_result",
          "data": {
            "text/plain": [
              "Text(0.5, 0, 'Date')"
            ]
          },
          "metadata": {},
          "execution_count": 13
        },
        {
          "output_type": "display_data",
          "data": {
            "image/png": "[encoded data removed]",
            "text/plain": [
              "<Figure size 432x288 with 1 Axes>"
            ]
          },
          "metadata": {
            "needs_background": "light"
          }
        }
      ]
    },
    {
      "cell_type": "code",
      "metadata": {
        "id": "IGvDF0-lnpr_",
        "outputId": "17330805-d44a-4ff4-d99e-c10a3d227a94",
        "colab": {
          "base_uri": "https://localhost:8080/",
          "height": 286
        }
      },
      "source": [
        "plt.ylabel('Est. Flow Rate [m^3/s]')\n"
      ],
      "execution_count": 14,
      "outputs": [
        {
          "output_type": "execute_result",
          "data": {
            "text/plain": [
              "Text(0, 0.5, 'Est. Flow Rate [m^3/s]')"
            ]
          },
          "metadata": {},
          "execution_count": 14
        },
        {
          "output_type": "display_data",
          "data": {
            "image/png": "[encoded data removed]",
            "text/plain": [
              "<Figure size 432x288 with 1 Axes>"
            ]
          },
          "metadata": {
            "needs_background": "light"
          }
        }
      ]
    },
    {
      "cell_type": "code",
      "metadata": {
        "id": "_v8sIZM7np15"
      },
      "source": [
        "plt.show()\n"
      ],
      "execution_count": 15,
      "outputs": []
    },
    {
      "cell_type": "markdown",
      "metadata": {
        "id": "L6SSm5L5bpHu"
      },
      "source": [
        "Comment on the trend of Est. Flow Rate[m^3/s] for September 2017. \n",
        "<br> \n",
        "Answer: (Double click here to add your comments)\n",
        "<BR>"
      ]
    },
    {
      "cell_type": "markdown",
      "metadata": {
        "id": "BN5p9gb8I-d-"
      },
      "source": [
        "## Scatter Plot 2"
      ]
    },
    {
      "cell_type": "code",
      "metadata": {
        "id": "TjslWzhYJCEA",
        "outputId": "916ad61f-68a3-4fe0-c0e9-a3a19d6d10b8",
        "colab": {
          "base_uri": "https://localhost:8080/",
          "height": 51
        }
      },
      "source": [
        "plt.figure(figsize=(20,12))"
      ],
      "execution_count": 17,
      "outputs": [
        {
          "output_type": "execute_result",
          "data": {
            "text/plain": [
              "<Figure size 1440x864 with 0 Axes>"
            ]
          },
          "metadata": {},
          "execution_count": 17
        },
        {
          "output_type": "display_data",
          "data": {
            "text/plain": [
              "<Figure size 1440x864 with 0 Axes>"
            ]
          },
          "metadata": {}
        }
      ]
    },
    {
      "cell_type": "code",
      "metadata": {
        "id": "GJIduFH9nq0C",
        "outputId": "c1a48503-7c1e-44fb-b094-ff7bc36fa804",
        "colab": {
          "base_uri": "https://localhost:8080/",
          "height": 282
        }
      },
      "source": [
        "plt.scatter(df4[\"Date and Time\"], df4[\"Estimated Flow Rate (m3/s)\"], s=1)\n"
      ],
      "execution_count": 18,
      "outputs": [
        {
          "output_type": "execute_result",
          "data": {
            "text/plain": [
              "<matplotlib.collections.PathCollection at 0x7f5808c4f890>"
            ]
          },
          "metadata": {},
          "execution_count": 18
        },
        {
          "output_type": "display_data",
          "data": {
            "image/png": "[encoded data removed]",
            "text/plain": [
              "<Figure size 432x288 with 1 Axes>"
            ]
          },
          "metadata": {
            "needs_background": "light"
          }
        }
      ]
    },
    {
      "cell_type": "code",
      "metadata": {
        "id": "pI8HHrPEnq8U",
        "outputId": "0032904e-9897-496d-d878-b5609006429e",
        "colab": {
          "base_uri": "https://localhost:8080/",
          "height": 298
        }
      },
      "source": [
        "plt.title(\"Est. Flow Rate 10/1/17-10/31/17\")"
      ],
      "execution_count": 19,
      "outputs": [
        {
          "output_type": "execute_result",
          "data": {
            "text/plain": [
              "Text(0.5, 1.0, 'Est. Flow Rate 10/1/17-10/31/17')"
            ]
          },
          "metadata": {},
          "execution_count": 19
        },
        {
          "output_type": "display_data",
          "data": {
            "image/png": "[encoded data removed]",
            "text/plain": [
              "<Figure size 432x288 with 1 Axes>"
            ]
          },
          "metadata": {
            "needs_background": "light"
          }
        }
      ]
    },
    {
      "cell_type": "code",
      "metadata": {
        "id": "4KDudTyBnrId",
        "outputId": "46cf96cb-985a-4760-9517-a364e3453cf7",
        "colab": {
          "base_uri": "https://localhost:8080/",
          "height": 300
        }
      },
      "source": [
        "plt.xlabel(\"Date\")"
      ],
      "execution_count": 20,
      "outputs": [
        {
          "output_type": "execute_result",
          "data": {
            "text/plain": [
              "Text(0.5, 0, 'Date')"
            ]
          },
          "metadata": {},
          "execution_count": 20
        },
        {
          "output_type": "display_data",
          "data": {
            "image/png": "[encoded data removed]",
            "text/plain": [
              "<Figure size 432x288 with 1 Axes>"
            ]
          },
          "metadata": {
            "needs_background": "light"
          }
        }
      ]
    },
    {
      "cell_type": "code",
      "metadata": {
        "id": "ahJ0T57jnrRw",
        "outputId": "aa8391d7-fad5-42e0-8ac8-dc6b4bc6e761",
        "colab": {
          "base_uri": "https://localhost:8080/",
          "height": 286
        }
      },
      "source": [
        "plt.ylabel('Water Temprature ( \\N{DEGREE SIGN}F)')"
      ],
      "execution_count": 21,
      "outputs": [
        {
          "output_type": "execute_result",
          "data": {
            "text/plain": [
              "Text(0, 0.5, 'Water Temprature ( °F)')"
            ]
          },
          "metadata": {},
          "execution_count": 21
        },
        {
          "output_type": "display_data",
          "data": {
            "image/png": "[encoded data removed]",
            "text/plain": [
              "<Figure size 432x288 with 1 Axes>"
            ]
          },
          "metadata": {
            "needs_background": "light"
          }
        }
      ]
    },
    {
      "cell_type": "code",
      "metadata": {
        "id": "IR-ALsqnnraM"
      },
      "source": [
        "plt.show()"
      ],
      "execution_count": 22,
      "outputs": []
    },
    {
      "cell_type": "markdown",
      "metadata": {
        "id": "zRlTAezefKRW"
      },
      "source": [
        "Comment on the trend of Est. Flow Rate[m^3/s] for September 2017. \n",
        "<br> \n",
        "**Answer:** The flow rate is fluxuating in a pattern of twos.\n",
        "<BR>\n"
      ]
    },
    {
      "cell_type": "markdown",
      "metadata": {
        "id": "FYtX2MFenzZo"
      },
      "source": [
        ""
      ]
    },
    {
      "cell_type": "markdown",
      "metadata": {
        "id": "aHvdhLAp8JwS"
      },
      "source": [
        "## Histogram Plotting\n",
        "Plot a histogram for Est. Flow Rate  data of September 2017. Be sure to include proper titles and axis labels on each of your plots."
      ]
    },
    {
      "cell_type": "code",
      "metadata": {
        "id": "D5TXXDg58Wwn",
        "outputId": "08cc4ba4-cb1c-442a-8107-bb90b3c8cd44",
        "colab": {
          "base_uri": "https://localhost:8080/",
          "height": 367
        }
      },
      "source": [
        "plt.hist(df3[\"Est. Flow Rate[m^3/s]\"])\n"
      ],
      "execution_count": 16,
      "outputs": [
        {
          "output_type": "execute_result",
          "data": {
            "text/plain": [
              "(array([1.3964e+04, 1.1000e+02, 4.8000e+01, 8.0000e+00, 1.0000e+00,\n",
              "        2.0000e+00, 1.0000e+00, 1.0000e+00, 2.0000e+00, 1.0000e+00]),\n",
              " array([-0.04279164,  0.09670067,  0.23619297,  0.37568528,  0.51517759,\n",
              "         0.65466989,  0.7941622 ,  0.93365451,  1.07314682,  1.21263912,\n",
              "         1.35213143]),\n",
              " <a list of 10 Patch objects>)"
            ]
          },
          "metadata": {},
          "execution_count": 16
        },
        {
          "output_type": "display_data",
          "data": {
            "image/png": "[encoded data removed]",
            "text/plain": [
              "<Figure size 432x288 with 1 Axes>"
            ]
          },
          "metadata": {
            "needs_background": "light"
          }
        }
      ]
    },
    {
      "cell_type": "code",
      "metadata": {
        "id": "Z-8PwK-8n7XK"
      },
      "source": [
        "plt.show()"
      ],
      "execution_count": 24,
      "outputs": []
    },
    {
      "cell_type": "markdown",
      "metadata": {
        "id": "MtRaVz5BJdMv"
      },
      "source": [
        "Plot a histogram for water temprature data of October 2017. Be sure to include proper titles and axis labels on each of your plots."
      ]
    },
    {
      "cell_type": "code",
      "metadata": {
        "id": "FH7ov5cHJhPI",
        "outputId": "f749fc74-557e-43d1-e232-d37ebdd09f8e",
        "colab": {
          "base_uri": "https://localhost:8080/",
          "height": 367
        }
      },
      "source": [
        "plt.hist(df4[\"Estimated Flow Rate (m3/s)\"])\n"
      ],
      "execution_count": 23,
      "outputs": [
        {
          "output_type": "execute_result",
          "data": {
            "text/plain": [
              "(array([1.3983e+04, 9.7000e+01, 2.6000e+01, 2.4000e+01, 1.0000e+01,\n",
              "        5.0000e+00, 5.0000e+00, 3.0000e+00, 3.0000e+00, 2.0000e+00]),\n",
              " array([-0.05740673,  0.94434061,  1.94608796,  2.9478353 ,  3.94958264,\n",
              "         4.95132998,  5.95307732,  6.95482466,  7.956572  ,  8.95831934,\n",
              "         9.96006668]),\n",
              " <a list of 10 Patch objects>)"
            ]
          },
          "metadata": {},
          "execution_count": 23
        },
        {
          "output_type": "display_data",
          "data": {
            "image/png": "[encoded data removed]",
            "text/plain": [
              "<Figure size 432x288 with 1 Axes>"
            ]
          },
          "metadata": {
            "needs_background": "light"
          }
        }
      ]
    },
    {
      "cell_type": "code",
      "metadata": {
        "id": "Db92da6bn8a6"
      },
      "source": [
        "plt.show()"
      ],
      "execution_count": 25,
      "outputs": []
    },
    {
      "cell_type": "markdown",
      "metadata": {
        "id": "-rAHneBDoEA-"
      },
      "source": [
        "***Comment on the shape of the distributions.***\n",
        "<br>\n",
        "***Answer:***\n",
        "<br> The Data skewed to the left.\n",
        "<br>"
      ]
    },
    {
      "cell_type": "markdown",
      "metadata": {
        "id": "et2TPHnI8Xmx"
      },
      "source": [
        "# Boxplot\n",
        "\n",
        "Generate a boxplot for water temprature data of September 2017."
      ]
    },
    {
      "cell_type": "code",
      "metadata": {
        "id": "m72msMm7J7yt",
        "outputId": "08280503-7335-46fd-c2ab-21db4205aa96",
        "colab": {
          "base_uri": "https://localhost:8080/",
          "height": 266
        }
      },
      "source": [
        "boxplot1 = df3.boxplot(column=[\"Est. Flow Rate[m^3/s]\"], grid=False)\n"
      ],
      "execution_count": 26,
      "outputs": [
        {
          "output_type": "display_data",
          "data": {
            "image/png": "[encoded data removed]",
            "text/plain": [
              "<Figure size 432x288 with 1 Axes>"
            ]
          },
          "metadata": {
            "needs_background": "light"
          }
        }
      ]
    },
    {
      "cell_type": "markdown",
      "metadata": {
        "id": "2k-pzbE28zTh"
      },
      "source": [
        "Generate a boxplot for Est. Flow Rate data of October 2017.\n",
        "\n"
      ]
    },
    {
      "cell_type": "code",
      "metadata": {
        "id": "CTsEzQdcKAu-",
        "outputId": "9644a3b7-1dd5-4523-ab50-0f29d4e6c7df",
        "colab": {
          "base_uri": "https://localhost:8080/",
          "height": 265
        }
      },
      "source": [
        "boxplot2 = df4.boxplot(column=[\"Estimated Flow Rate (m3/s)\"], grid=False)\n"
      ],
      "execution_count": 27,
      "outputs": [
        {
          "output_type": "display_data",
          "data": {
            "image/png": "[encoded data removed]",
            "text/plain": [
              "<Figure size 432x288 with 1 Axes>"
            ]
          },
          "metadata": {
            "needs_background": "light"
          }
        }
      ]
    },
    {
      "cell_type": "markdown",
      "metadata": {
        "id": "KInJRKw6oLWL"
      },
      "source": [
        "***Comment on the boxplots***\n",
        "<br>\n",
        "***Answer:*** The results are close together but slowly decresasing as time progessed. <br>"
      ]
    },
    {
      "cell_type": "markdown",
      "metadata": {
        "id": "jJ7C5UXCoNv2"
      },
      "source": [
        ""
      ]
    },
    {
      "cell_type": "markdown",
      "metadata": {
        "id": "kjwqEX7-9hBZ"
      },
      "source": [
        "\n",
        "#Confidence Interval\n",
        "\n",
        "We can construct confidence interval based on the sample data collected. From the histogram and bloxplot, we have already estabished that the data is not normally distributed. However, give the large sample size, using the central limit theorem, we know the sampling distribution of the mean will follow a normal distribution. The following code will generate the 95% confidence interval for the mean estimated flow rate of Septemebr 2017.\n"
      ]
    },
    {
      "cell_type": "code",
      "metadata": {
        "id": "uVJHNf3w90Aa",
        "outputId": "72f04bd2-7f42-4e0d-8637-d858ec7b834a",
        "colab": {
          "base_uri": "https://localhost:8080/"
        }
      },
      "source": [
        "stats.norm.interval(alpha=0.95, loc=np.mean(df3[\"Est. Flow Rate[m^3/s]\"]), scale=stats.sem(df3[\"Est. Flow Rate[m^3/s]\"]))\n",
        "\n"
      ],
      "execution_count": 28,
      "outputs": [
        {
          "output_type": "execute_result",
          "data": {
            "text/plain": [
              "(-0.0005890705452862031, 0.0006043342287662374)"
            ]
          },
          "metadata": {},
          "execution_count": 28
        }
      ]
    },
    {
      "cell_type": "markdown",
      "metadata": {
        "id": "66-gYL6P943-"
      },
      "source": [
        "Interpret the confidence interval you generated.<br>\n",
        "***Answer:*** There is 95% chance that the interval (-0.0005890705452862031,, -0.0005890705452862031,) won't capture the true mean Estimated Flow rate for year 2017."
      ]
    },
    {
      "cell_type": "markdown",
      "metadata": {
        "id": "6LLFCZy6-Ss2"
      },
      "source": [
        ""
      ]
    },
    {
      "cell_type": "markdown",
      "metadata": {
        "id": "21mdTAOrWH0s"
      },
      "source": [
        "# Hypothesis testing\n",
        "Suppose we are interested in testing if the mean estimated flow rate from September 2017 is statisticlly different from the mean estimated flow rate from October 2017. "
      ]
    },
    {
      "cell_type": "markdown",
      "metadata": {
        "id": "JKDtO50yKZEs"
      },
      "source": [
        "***Question***<br>\n",
        "How many samples are there in this experiment? What are they?<br>\n",
        "***Answer*** There were two samples, September of 2017 and October 2017\n",
        "\n"
      ]
    },
    {
      "cell_type": "markdown",
      "metadata": {
        "id": "zrvr9pESKuuJ"
      },
      "source": [
        ""
      ]
    },
    {
      "cell_type": "markdown",
      "metadata": {
        "id": "YWeZ8fyXWl1A"
      },
      "source": [
        "Create two dataframe r9 and r10 each reprenting the Est. Flow Rate data from September and October 2017."
      ]
    },
    {
      "cell_type": "code",
      "metadata": {
        "id": "Rm-7fxIaLJRK"
      },
      "source": [
        "t16=df3[\"Est. Flow Rate[m^3/s]\"]\n"
      ],
      "execution_count": 29,
      "outputs": []
    },
    {
      "cell_type": "code",
      "metadata": {
        "id": "LNkA5DDiLKxc"
      },
      "source": [
        "t17=df4[\"Estimated Flow Rate (m3/s)\"]\n"
      ],
      "execution_count": 30,
      "outputs": []
    },
    {
      "cell_type": "markdown",
      "metadata": {
        "id": "JpeaDu-ELL8D"
      },
      "source": [
        "# Independent Variable and Dependent Variable"
      ]
    },
    {
      "cell_type": "markdown",
      "metadata": {
        "id": "SHMYbJceLYkC"
      },
      "source": [
        "***Question***<br>\n",
        "What is the independent variable and what is the dependent variable of this experiment?"
      ]
    },
    {
      "cell_type": "markdown",
      "metadata": {
        "id": "tpYMC11sLhM7"
      },
      "source": [
        "***Answer*** The independent variable in this experiment is group with two levels. The dependent varibale is estimated flow rate, a continuous variable.\n",
        "\n"
      ]
    },
    {
      "cell_type": "markdown",
      "metadata": {
        "id": "Sv1axeNbR-AS"
      },
      "source": [
        ""
      ]
    },
    {
      "cell_type": "markdown",
      "metadata": {
        "id": "87-nDTJpOQqM"
      },
      "source": [
        "***Question***<br>\n",
        "What are the assumptions for the two sample t test?"
      ]
    },
    {
      "cell_type": "markdown",
      "metadata": {
        "id": "h_ic0amVOW4m"
      },
      "source": [
        "***Answer*** We can assume that"
      ]
    },
    {
      "cell_type": "markdown",
      "metadata": {
        "id": "uSxLSiIgpCNd"
      },
      "source": [
        ""
      ]
    },
    {
      "cell_type": "markdown",
      "metadata": {
        "id": "LW5myUIGpB4g"
      },
      "source": [
        ""
      ]
    },
    {
      "cell_type": "markdown",
      "metadata": {
        "id": "trkUheGrOZC9"
      },
      "source": [
        ""
      ]
    },
    {
      "cell_type": "markdown",
      "metadata": {
        "id": "xUAxn6ruLjkO"
      },
      "source": [
        "#Model Assumption Check\n",
        "##Checking the Normality of Data\n",
        "Use the Shapiro-Wilks test to check whether the September data is normally distributed. "
      ]
    },
    {
      "cell_type": "code",
      "metadata": {
        "id": "7uBsvrrwL7lz",
        "outputId": "352df7a3-0759-4624-ba6e-1a579de3955b",
        "colab": {
          "base_uri": "https://localhost:8080/"
        }
      },
      "source": [
        "stats.shapiro(t16)\n"
      ],
      "execution_count": 31,
      "outputs": [
        {
          "output_type": "stream",
          "name": "stderr",
          "text": [
            "/usr/local/lib/python3.7/dist-packages/scipy/stats/morestats.py:1676: UserWarning: p-value may not be accurate for N > 5000.\n",
            "  warnings.warn(\"p-value may not be accurate for N > 5000.\")\n"
          ]
        },
        {
          "output_type": "execute_result",
          "data": {
            "text/plain": [
              "(0.3093302845954895, 0.0)"
            ]
          },
          "metadata": {},
          "execution_count": 31
        }
      ]
    },
    {
      "cell_type": "markdown",
      "metadata": {
        "id": "8ffEYhuAL9IX"
      },
      "source": [
        "Based on the shapiro-Wilks test, what can you conclude?"
      ]
    },
    {
      "cell_type": "markdown",
      "metadata": {
        "id": "Vh1-IasmMEzI"
      },
      "source": [
        "The Data isn't normally distributed."
      ]
    },
    {
      "cell_type": "markdown",
      "metadata": {
        "id": "iN5p9YqqMLsK"
      },
      "source": [
        "Use the Shapiro-Wilks test to check whether the October data is normally distributed. "
      ]
    },
    {
      "cell_type": "code",
      "metadata": {
        "id": "JFHI8RN6MQQj",
        "outputId": "3bc61120-715f-49c1-b5ba-07695b745e36",
        "colab": {
          "base_uri": "https://localhost:8080/"
        }
      },
      "source": [
        "stats.shapiro(t17)\n"
      ],
      "execution_count": 32,
      "outputs": [
        {
          "output_type": "stream",
          "name": "stderr",
          "text": [
            "/usr/local/lib/python3.7/dist-packages/scipy/stats/morestats.py:1676: UserWarning: p-value may not be accurate for N > 5000.\n",
            "  warnings.warn(\"p-value may not be accurate for N > 5000.\")\n"
          ]
        },
        {
          "output_type": "execute_result",
          "data": {
            "text/plain": [
              "(0.15043169260025024, 0.0)"
            ]
          },
          "metadata": {},
          "execution_count": 32
        }
      ]
    },
    {
      "cell_type": "markdown",
      "metadata": {
        "id": "-SKUoPokMU18"
      },
      "source": [
        "Based on the shapiro-Wilks test, what can you conclude?"
      ]
    },
    {
      "cell_type": "markdown",
      "metadata": {
        "id": "Y8lylg6KMQko"
      },
      "source": [
        "The Data is normally distributed."
      ]
    },
    {
      "cell_type": "markdown",
      "metadata": {
        "id": "yfLKlyoQMc_s"
      },
      "source": [
        "##Checking the Homogeneity of Variances Assumption\n",
        "Use Levene’s test to test for homogeneity of variances (equal variances):"
      ]
    },
    {
      "cell_type": "code",
      "metadata": {
        "id": "p7YpvC3VMllk",
        "outputId": "afaa309c-4e9c-43e3-d124-c38c42e84449",
        "colab": {
          "base_uri": "https://localhost:8080/"
        }
      },
      "source": [
        "stats.levene(t16,t17)\n"
      ],
      "execution_count": 33,
      "outputs": [
        {
          "output_type": "execute_result",
          "data": {
            "text/plain": [
              "LeveneResult(statistic=319.01395434004144, pvalue=5.830822745630015e-71)"
            ]
          },
          "metadata": {},
          "execution_count": 33
        }
      ]
    },
    {
      "cell_type": "markdown",
      "metadata": {
        "id": "gteUEoW8Mncl"
      },
      "source": [
        "Based on Leven's test, what can you conclude?"
      ]
    },
    {
      "cell_type": "markdown",
      "metadata": {
        "id": "RWytXadJMrw7"
      },
      "source": [
        "Because the p value is more than 0.05, the homogeneity of variances assumption is met."
      ]
    },
    {
      "cell_type": "markdown",
      "metadata": {
        "id": "ucrjLPqZNrTG"
      },
      "source": [
        "Based on the above tests, what can you conclude about the model assumptions?\n",
        "<br>\n",
        "**Answer:**"
      ]
    },
    {
      "cell_type": "markdown",
      "metadata": {
        "id": "pOuyD9b_Nz_R"
      },
      "source": [
        "Since the assumptions are violated, t test cannot be applied. Instead, we will use a nonparametric test, Mann-Whitney U Test."
      ]
    },
    {
      "cell_type": "markdown",
      "metadata": {
        "id": "RTwPBmLIMx8j"
      },
      "source": [
        "# NonParametric t test (Mann-Whitney U Test)\n",
        "If the assumptions are violated, nonparametric t test, Mann-Whitney U test can be used.\n"
      ]
    },
    {
      "cell_type": "code",
      "metadata": {
        "id": "KpqobmTopbGu"
      },
      "source": [
        "stat, p = stats.mannwhitneyu(t16, t17)"
      ],
      "execution_count": 34,
      "outputs": []
    },
    {
      "cell_type": "code",
      "metadata": {
        "id": "jbpqx79eM1Ch",
        "outputId": "899f3f26-09ae-4d34-c8e4-8afe969a133d",
        "colab": {
          "base_uri": "https://localhost:8080/"
        }
      },
      "source": [
        "print('Statistics=%.3f, p=%.3f '% (stat, p))"
      ],
      "execution_count": 35,
      "outputs": [
        {
          "output_type": "stream",
          "name": "stdout",
          "text": [
            "Statistics=40097230.000, p=0.000 \n"
          ]
        }
      ]
    },
    {
      "cell_type": "markdown",
      "metadata": {
        "id": "D6TV10E3N_7r"
      },
      "source": [
        "# 6-Step Hypothesis Testing"
      ]
    },
    {
      "cell_type": "markdown",
      "metadata": {
        "id": "hg3Hfk7gOE3Q"
      },
      "source": [
        "1. H0:  𝜇16  =  𝜇17 \n",
        "   Ha:  𝜇16  ≠  𝜇17 "
      ]
    },
    {
      "cell_type": "markdown",
      "metadata": {
        "id": "S9dxkCiiOGxq"
      },
      "source": [
        "2. 𝛼  = 0.05"
      ]
    },
    {
      "cell_type": "markdown",
      "metadata": {
        "id": "hgbABRZTOHvk"
      },
      "source": [
        "3. Test Statistic\n",
        "U=2192277.00"
      ]
    },
    {
      "cell_type": "markdown",
      "metadata": {
        "id": "M7wj9bdgOIfN"
      },
      "source": [
        "4. p Value p=0.000"
      ]
    },
    {
      "cell_type": "markdown",
      "metadata": {
        "id": "OwGeV-MsOJGX"
      },
      "source": [
        "5. Decision Reject H0 since p <0.05"
      ]
    },
    {
      "cell_type": "markdown",
      "metadata": {
        "id": "Yg4ErcNWOJv8"
      },
      "source": [
        "6. Conclusion At 0.05 level of significance, there is sufficient evidence to conclude that the mean est. flow rate in September is different from the est. flow rate in October."
      ]
    }
  ]
}